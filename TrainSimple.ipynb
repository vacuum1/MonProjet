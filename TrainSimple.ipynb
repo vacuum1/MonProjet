{
  "nbformat": 4,
  "nbformat_minor": 0,
  "metadata": {
    "colab": {
      "name": "TrainSimple.ipynb",
      "provenance": [],
      "collapsed_sections": [],
      "authorship_tag": "ABX9TyNmezHrFJN0FSS/NTLwI2uM",
      "include_colab_link": true
    },
    "kernelspec": {
      "display_name": "Python 3",
      "name": "python3"
    }
  },
  "cells": [
    {
      "cell_type": "markdown",
      "metadata": {
        "id": "view-in-github",
        "colab_type": "text"
      },
      "source": [
        "<a href=\"https://colab.research.google.com/github/vacuum1/MonProjet/blob/master/TrainSimple.ipynb\" target=\"_parent\"><img src=\"https://colab.research.google.com/assets/colab-badge.svg\" alt=\"Open In Colab\"/></a>"
      ]
    },
    {
      "cell_type": "code",
      "metadata": {
        "id": "CCRDPYZEhgEf"
      },
      "source": [
        "from google.colab import drive\r\n",
        "drive.mount('/content/drive')"
      ],
      "execution_count": null,
      "outputs": []
    },
    {
      "cell_type": "code",
      "metadata": {
        "id": "wQdGdCrlhqk_"
      },
      "source": [
        "cd '/content/drive/My Drive/Recherche/MonProjet/'"
      ],
      "execution_count": null,
      "outputs": []
    },
    {
      "cell_type": "code",
      "metadata": {
        "id": "x73JMurrhrL_"
      },
      "source": [
        "import tensorflow as tf\r\n",
        "from tensorflow.keras.models import Sequential\r\n",
        "from tensorflow.keras.layers import Dense, Conv2D, Flatten, Dropout, MaxPooling2D\r\n",
        "from tensorflow.keras.preprocessing.image import ImageDataGenerator\r\n",
        "\r\n",
        "import os\r\n",
        "import numpy as np\r\n",
        "import matplotlib.pyplot as plt\r\n",
        "from tensorflow.keras.callbacks import ModelCheckpoint, ReduceLROnPlateau, EarlyStopping\r\n",
        "from tensorflow.keras.regularizers import l2"
      ],
      "execution_count": null,
      "outputs": []
    },
    {
      "cell_type": "code",
      "metadata": {
        "id": "e3Om1_Cxhszw"
      },
      "source": [
        "PATH = \"/content/drive/My Drive/Recherche/MonProjet/images/image\"\r\n",
        "train_dir = os.path.join(PATH, 'train') #Chemin vers les données d'entrainements\r\n",
        "validation_dir = os.path.join(PATH, 'validation')#Chemin vers les données de validation"
      ],
      "execution_count": null,
      "outputs": []
    },
    {
      "cell_type": "code",
      "metadata": {
        "id": "Ss9mszMPhvS5"
      },
      "source": [
        "train_comptonie_dir = os.path.join(train_dir, 'comptonie')\r\n",
        "train_kalmia_dir = os.path.join(train_dir, 'kalmia')\r\n",
        "train_qutretemps_dir = os.path.join(train_dir, 'quatretemps')\r\n",
        "train_tussock_dir = os.path.join(train_dir, 'tussock')\r\n",
        "validation_comptonie_dir = os.path.join(validation_dir, 'comptonie')\r\n",
        "validation_kalmia_dir = os.path.join(validation_dir, 'kalmia')\r\n",
        "validation_qutretemps_dir = os.path.join(validation_dir, 'quatretemps')\r\n",
        "validation_tussock_dir = os.path.join(validation_dir, 'tussock')"
      ],
      "execution_count": null,
      "outputs": []
    },
    {
      "cell_type": "code",
      "metadata": {
        "id": "CXc93NWchw4i"
      },
      "source": [
        "num_comptonie_tr = len(os.listdir(train_comptonie_dir))\r\n",
        "num_kalmia_tr = len(os.listdir(train_kalmia_dir))\r\n",
        "num_qutretemps_tr = len(os.listdir(train_qutretemps_dir))\r\n",
        "num_tussock_tr = len(os.listdir(train_tussock_dir))\r\n",
        "\r\n",
        "num_comptonie_val = len(os.listdir(validation_comptonie_dir))\r\n",
        "num_kalmia_val= len(os.listdir(validation_kalmia_dir))\r\n",
        "num_qutretemps_val = len(os.listdir(validation_qutretemps_dir))\r\n",
        "num_tussock_val = len(os.listdir(validation_tussock_dir))\r\n",
        "\r\n",
        "total_train = num_comptonie_tr + num_kalmia_tr +  num_tussock_tr\r\n",
        "total_val = num_comptonie_val + num_kalmia_val + num_tussock_val\r\n"
      ],
      "execution_count": null,
      "outputs": []
    },
    {
      "cell_type": "code",
      "metadata": {
        "colab": {
          "base_uri": "https://localhost:8080/"
        },
        "id": "F5pzNUashywZ",
        "outputId": "0c17abca-4986-461b-af4c-f6272de84d7c"
      },
      "source": [
        "print('total training comptonie images:', num_comptonie_tr)\r\n",
        "print('total training kalmia images:', num_kalmia_tr)\r\n",
        "print('total training qutretemps images:', num_qutretemps_tr)\r\n",
        "print('total training tussock images:', num_tussock_tr)\r\n",
        "\r\n",
        "print('total validation comptonie images:', num_comptonie_val)\r\n",
        "print('total validation kalmia images:', num_kalmia_val)\r\n",
        "print('total validation qutretemps images:', num_qutretemps_val)\r\n",
        "print('total validation tussock images:', num_tussock_val)\r\n",
        "print(\"------\")\r\n",
        "print(\"Total training images:\", total_train)\r\n",
        "print(\"Total validation images:\", total_val)"
      ],
      "execution_count": null,
      "outputs": [
        {
          "output_type": "stream",
          "text": [
            "total training comptonie images: 900\n",
            "total training kalmia images: 898\n",
            "total training qutretemps images: 900\n",
            "total training tussock images: 899\n",
            "total validation comptonie images: 299\n",
            "total validation kalmia images: 302\n",
            "total validation qutretemps images: 300\n",
            "total validation tussock images: 300\n",
            "------\n",
            "Total training images: 2697\n",
            "Total validation images: 901\n"
          ],
          "name": "stdout"
        }
      ]
    },
    {
      "cell_type": "code",
      "metadata": {
        "id": "v76VtpslibrF"
      },
      "source": [
        "# assignement des variables pour le prétraitement\r\n",
        "batch_size = 64\r\n",
        "epochs = 50\r\n",
        "IMG_HEIGHT = 180\r\n",
        "IMG_WIDTH = 320"
      ],
      "execution_count": null,
      "outputs": []
    },
    {
      "cell_type": "code",
      "metadata": {
        "id": "AM56sEF0i3zM"
      },
      "source": [
        "train_image_generator = ImageDataGenerator(rescale=1.0/255.0,) #horizontal_flip=True, vertical_flip=True, rotation_range=90)#prétraitement des données d'entrainement\r\n",
        "validation_image_generator = ImageDataGenerator(rescale=1.0/255.0,) #prétraitement des données de validation"
      ],
      "execution_count": null,
      "outputs": []
    },
    {
      "cell_type": "code",
      "metadata": {
        "colab": {
          "base_uri": "https://localhost:8080/"
        },
        "id": "heiW42yDjQiQ",
        "outputId": "8f4bef62-d50d-4498-e270-9c5b65a86bc5"
      },
      "source": [
        "train_data_gen = train_image_generator.flow_from_directory(batch_size=batch_size,\r\n",
        "                                                           directory=train_dir,\r\n",
        "                                                           target_size=(IMG_HEIGHT,IMG_WIDTH),\r\n",
        "                                                           #color_mode=\"grayscale\",\r\n",
        "                                                           class_mode='categorical',\r\n",
        "                                                           shuffle=True)\r\n",
        "\r\n",
        "val_data_gen = validation_image_generator.flow_from_directory(batch_size=batch_size,\r\n",
        "                                                           directory=validation_dir,\r\n",
        "                                                           target_size=(IMG_HEIGHT,IMG_WIDTH),\r\n",
        "                                                           #color_mode=\"grayscale\",\r\n",
        "                                                           class_mode='categorical',\r\n",
        "                                                           shuffle=False)"
      ],
      "execution_count": null,
      "outputs": [
        {
          "output_type": "stream",
          "text": [
            "Found 3597 images belonging to 4 classes.\n",
            "Found 1201 images belonging to 4 classes.\n"
          ],
          "name": "stdout"
        }
      ]
    },
    {
      "cell_type": "code",
      "metadata": {
        "id": "fXFkywUtUSHt"
      },
      "source": [
        "from livelossplot import PlotLossesKeras"
      ],
      "execution_count": null,
      "outputs": []
    },
    {
      "cell_type": "code",
      "metadata": {
        "id": "-5lAZ5GujrA8"
      },
      "source": [
        "callbacks_list = [\r\n",
        "            # Sauvegarde du modèle\r\n",
        "            ModelCheckpoint(\r\n",
        "                filepath = 'best_model_3001.h5',\r\n",
        "                #filepath = 'best_model{}'.format(time.time()).'h5',\r\n",
        "                verbose=1,\r\n",
        "                save_best_only=True,\r\n",
        "                monitor=\"val_accuracy\",\r\n",
        "                #mode='max'\r\n",
        "            ),\r\n",
        "            PlotLossesKeras(),\r\n",
        "            # Arrêt automatique si aucune amélioration\r\n",
        "            EarlyStopping(\r\n",
        "                patience=20, restore_best_weights=True, verbose=1, monitor=\"val_accuracy\"\r\n",
        "            ),\r\n",
        "            # Réduction du Learning Rate (LR) si aucune amélioration\r\n",
        "            #ReduceLROnPlateau(patience=2, factor=0.6, verbose=1, min_lr=0.00001),\r\n",
        "        ]"
      ],
      "execution_count": null,
      "outputs": []
    },
    {
      "cell_type": "code",
      "metadata": {
        "colab": {
          "base_uri": "https://localhost:8080/",
          "height": 90
        },
        "id": "QcQVRMlhkYOc",
        "outputId": "6a24a8e7-93a0-467f-8f06-5c2a8912a91c"
      },
      "source": [
        "model = Sequential([\r\n",
        "\tConv2D(32, (3, 3), activation='relu', padding='same', input_shape=(IMG_HEIGHT, IMG_WIDTH ,3)),\r\n",
        "\tConv2D(32, (3, 3), activation='relu', kernel_regularizer=l2(0.01), padding='same'),\r\n",
        "\tMaxPooling2D((2, 2)),\r\n",
        "\tConv2D(64, (3, 3), activation='relu', kernel_regularizer=l2(0.01), padding='same'),\r\n",
        "\tConv2D(64, (3, 3), activation='relu', kernel_regularizer=l2(0.01), padding='same'),\r\n",
        "\tMaxPooling2D((2, 2)),\r\n",
        "\tConv2D(128, (3, 3), activation='relu', kernel_regularizer=l2(0.01), padding='same'),\r\n",
        "\tConv2D(128, (3, 3), activation='relu', kernel_regularizer=l2(0.01), padding='same'),\r\n",
        "\tMaxPooling2D((2, 2)),\r\n",
        "\tFlatten(),\r\n",
        "\tDense(128, activation='relu', kernel_regularizer=l2(0.01)),\r\n",
        "  Dropout(0.5),\r\n",
        "\tDense(4, activation='softmax')\r\n",
        "])\r\n",
        "\"\"\"\r\n",
        "model = Sequential([\r\n",
        "    Conv2D(32, 3,  activation='relu', input_shape=(IMG_HEIGHT, IMG_WIDTH ,1)),\r\n",
        "    MaxPooling2D(),\r\n",
        "\r\n",
        "    Conv2D(64, 3, activation='relu', kernel_regularizer=l2(0.01)),\r\n",
        "    MaxPooling2D(),\r\n",
        "\r\n",
        "    Conv2D(128, 3, activation='relu', kernel_regularizer=l2(0.01)),\r\n",
        "    MaxPooling2D(),\r\n",
        "    \r\n",
        "    Conv2D(32, 3,  activation='relu', kernel_regularizer=l2(0.01)),\r\n",
        "    MaxPooling2D(),\r\n",
        "\r\n",
        "    Flatten(),\r\n",
        "\r\n",
        "    Dense(512, activation='relu', kernel_regularizer=l2(0.01)),\r\n",
        "    Dropout(0.5),\r\n",
        "    Dense(4, activation=\"softmax\"),\r\n",
        "])\r\n",
        "\"\"\""
      ],
      "execution_count": null,
      "outputs": [
        {
          "output_type": "execute_result",
          "data": {
            "application/vnd.google.colaboratory.intrinsic+json": {
              "type": "string"
            },
            "text/plain": [
              "'\\nmodel = Sequential([\\n    Conv2D(32, 3,  activation=\\'relu\\', input_shape=(IMG_HEIGHT, IMG_WIDTH ,1)),\\n    MaxPooling2D(),\\n\\n    Conv2D(64, 3, activation=\\'relu\\', kernel_regularizer=l2(0.01)),\\n    MaxPooling2D(),\\n\\n    Conv2D(128, 3, activation=\\'relu\\', kernel_regularizer=l2(0.01)),\\n    MaxPooling2D(),\\n    \\n    Conv2D(32, 3,  activation=\\'relu\\', kernel_regularizer=l2(0.01)),\\n    MaxPooling2D(),\\n\\n    Flatten(),\\n\\n    Dense(512, activation=\\'relu\\', kernel_regularizer=l2(0.01)),\\n    Dropout(0.5),\\n    Dense(4, activation=\"softmax\"),\\n])\\n'"
            ]
          },
          "metadata": {
            "tags": []
          },
          "execution_count": 15
        }
      ]
    },
    {
      "cell_type": "code",
      "metadata": {
        "id": "wKxM37JUltph"
      },
      "source": [
        "model.compile(optimizer='adam',\r\n",
        "              loss='categorical_crossentropy',\r\n",
        "              metrics=['accuracy'])\r\n",
        "#compile model\r\n",
        "#opt = tf.keras.optimizers.SGD(lr=0.01, momentum=0.9)\r\n",
        "#model.compile(optimizer=opt, loss='binary_crossentropy', metrics=['accuracy'])"
      ],
      "execution_count": null,
      "outputs": []
    },
    {
      "cell_type": "code",
      "metadata": {
        "colab": {
          "base_uri": "https://localhost:8080/"
        },
        "id": "FDEWVQo-ljSS",
        "outputId": "cdc41c8b-a19f-41a3-f537-b4120fa89e19"
      },
      "source": [
        "model.summary()"
      ],
      "execution_count": null,
      "outputs": [
        {
          "output_type": "stream",
          "text": [
            "Model: \"sequential\"\n",
            "_________________________________________________________________\n",
            "Layer (type)                 Output Shape              Param #   \n",
            "=================================================================\n",
            "conv2d (Conv2D)              (None, 180, 320, 32)      896       \n",
            "_________________________________________________________________\n",
            "conv2d_1 (Conv2D)            (None, 180, 320, 32)      9248      \n",
            "_________________________________________________________________\n",
            "max_pooling2d (MaxPooling2D) (None, 90, 160, 32)       0         \n",
            "_________________________________________________________________\n",
            "conv2d_2 (Conv2D)            (None, 90, 160, 64)       18496     \n",
            "_________________________________________________________________\n",
            "conv2d_3 (Conv2D)            (None, 90, 160, 64)       36928     \n",
            "_________________________________________________________________\n",
            "max_pooling2d_1 (MaxPooling2 (None, 45, 80, 64)        0         \n",
            "_________________________________________________________________\n",
            "conv2d_4 (Conv2D)            (None, 45, 80, 128)       73856     \n",
            "_________________________________________________________________\n",
            "conv2d_5 (Conv2D)            (None, 45, 80, 128)       147584    \n",
            "_________________________________________________________________\n",
            "max_pooling2d_2 (MaxPooling2 (None, 22, 40, 128)       0         \n",
            "_________________________________________________________________\n",
            "flatten (Flatten)            (None, 112640)            0         \n",
            "_________________________________________________________________\n",
            "dense (Dense)                (None, 128)               14418048  \n",
            "_________________________________________________________________\n",
            "dropout (Dropout)            (None, 128)               0         \n",
            "_________________________________________________________________\n",
            "dense_1 (Dense)              (None, 4)                 516       \n",
            "=================================================================\n",
            "Total params: 14,705,572\n",
            "Trainable params: 14,705,572\n",
            "Non-trainable params: 0\n",
            "_________________________________________________________________\n"
          ],
          "name": "stdout"
        }
      ]
    },
    {
      "cell_type": "code",
      "metadata": {
        "colab": {
          "base_uri": "https://localhost:8080/",
          "height": 729
        },
        "id": "nV7IiqH2llPX",
        "outputId": "a870caff-a813-4277-9603-50bd7a7d846a"
      },
      "source": [
        "history = model.fit(\r\n",
        "    train_data_gen,\r\n",
        "    steps_per_epoch=total_train // batch_size,\r\n",
        "    epochs=epochs,\r\n",
        "    callbacks=callbacks_list,\r\n",
        "    validation_data=val_data_gen,\r\n",
        "    validation_steps=total_val // batch_size\r\n",
        ")"
      ],
      "execution_count": null,
      "outputs": [
        {
          "output_type": "display_data",
          "data": {
            "image/png": "[encoded data removed]",
            "text/plain": [
              "<Figure size 864x576 with 2 Axes>"
            ]
          },
          "metadata": {
            "tags": [],
            "needs_background": "light"
          }
        },
        {
          "output_type": "stream",
          "text": [
            "accuracy\n",
            "\ttraining         \t (min:    0.343, max:    0.980, cur:    0.930)\n",
            "\tvalidation       \t (min:    0.528, max:    0.945, cur:    0.775)\n",
            "Loss\n",
            "\ttraining         \t (min:    0.298, max:    4.270, cur:    0.470)\n",
            "\tvalidation       \t (min:    0.323, max:    2.323, cur:    1.004)\n",
            "Epoch 43/50\n",
            "35/42 [========================>.....] - ETA: 2:30 - loss: 0.4848 - accuracy: 0.9335"
          ],
          "name": "stdout"
        }
      ]
    },
    {
      "cell_type": "code",
      "metadata": {
        "colab": {
          "base_uri": "https://localhost:8080/",
          "height": 171
        },
        "id": "TRkO9f5_eBtz",
        "outputId": "520b869f-3f1a-4547-aea9-59d55568cb81"
      },
      "source": [
        "model = load_model(\"best_model_3001.h5\")"
      ],
      "execution_count": null,
      "outputs": [
        {
          "output_type": "error",
          "ename": "NameError",
          "evalue": "ignored",
          "traceback": [
            "\u001b[0;31m---------------------------------------------------------------------------\u001b[0m",
            "\u001b[0;31mNameError\u001b[0m                                 Traceback (most recent call last)",
            "\u001b[0;32m<ipython-input-1-0004c3aaa1ee>\u001b[0m in \u001b[0;36m<module>\u001b[0;34m()\u001b[0m\n\u001b[0;32m----> 1\u001b[0;31m \u001b[0mmodel\u001b[0m \u001b[0;34m=\u001b[0m \u001b[0mload_model\u001b[0m\u001b[0;34m(\u001b[0m\u001b[0;34m\"best_model_3001.h5\"\u001b[0m\u001b[0;34m)\u001b[0m\u001b[0;34m\u001b[0m\u001b[0;34m\u001b[0m\u001b[0m\n\u001b[0m",
            "\u001b[0;31mNameError\u001b[0m: name 'load_model' is not defined"
          ]
        }
      ]
    },
    {
      "cell_type": "code",
      "metadata": {
        "id": "JNTxROj1BqRN"
      },
      "source": [
        "from sklearn.metrics import accuracy_score"
      ],
      "execution_count": null,
      "outputs": []
    },
    {
      "cell_type": "code",
      "metadata": {
        "colab": {
          "base_uri": "https://localhost:8080/",
          "height": 246
        },
        "id": "uWtlbcW6B5Rn",
        "outputId": "9da86279-25d9-47a4-8ea5-3c91ce21bb0e"
      },
      "source": [
        "Y_pred = model.predict_generator(val_data_gen, num_of_test_samples // batch_size+1)\r\n",
        "y_pred = np.argmax(Y_pred, axis=1)\r\n",
        "print('Confusion Matrix')\r\n",
        "print(confusion_matrix(validation_generator.classes, y_pred))\r\n",
        "print('Classification Report')\r\n",
        "target_names = ['Cats', 'Dogs', 'Horse']\r\n",
        "print(classification_report(validation_generator.classes, y_pred, target_names=target_names))"
      ],
      "execution_count": null,
      "outputs": [
        {
          "output_type": "error",
          "ename": "NameError",
          "evalue": "ignored",
          "traceback": [
            "\u001b[0;31m---------------------------------------------------------------------------\u001b[0m",
            "\u001b[0;31mNameError\u001b[0m                                 Traceback (most recent call last)",
            "\u001b[0;32m<ipython-input-23-ece5cd66ba82>\u001b[0m in \u001b[0;36m<module>\u001b[0;34m()\u001b[0m\n\u001b[0;32m----> 1\u001b[0;31m \u001b[0mY_pred\u001b[0m \u001b[0;34m=\u001b[0m \u001b[0mmodel\u001b[0m\u001b[0;34m.\u001b[0m\u001b[0mpredict_generator\u001b[0m\u001b[0;34m(\u001b[0m\u001b[0mvalidation_data\u001b[0m\u001b[0;34m,\u001b[0m \u001b[0mnum_of_test_samples\u001b[0m \u001b[0;34m//\u001b[0m \u001b[0mbatch_size\u001b[0m\u001b[0;34m+\u001b[0m\u001b[0;36m1\u001b[0m\u001b[0;34m)\u001b[0m\u001b[0;34m\u001b[0m\u001b[0;34m\u001b[0m\u001b[0m\n\u001b[0m\u001b[1;32m      2\u001b[0m \u001b[0my_pred\u001b[0m \u001b[0;34m=\u001b[0m \u001b[0mnp\u001b[0m\u001b[0;34m.\u001b[0m\u001b[0margmax\u001b[0m\u001b[0;34m(\u001b[0m\u001b[0mY_pred\u001b[0m\u001b[0;34m,\u001b[0m \u001b[0maxis\u001b[0m\u001b[0;34m=\u001b[0m\u001b[0;36m1\u001b[0m\u001b[0;34m)\u001b[0m\u001b[0;34m\u001b[0m\u001b[0;34m\u001b[0m\u001b[0m\n\u001b[1;32m      3\u001b[0m \u001b[0mprint\u001b[0m\u001b[0;34m(\u001b[0m\u001b[0;34m'Confusion Matrix'\u001b[0m\u001b[0;34m)\u001b[0m\u001b[0;34m\u001b[0m\u001b[0;34m\u001b[0m\u001b[0m\n\u001b[1;32m      4\u001b[0m \u001b[0mprint\u001b[0m\u001b[0;34m(\u001b[0m\u001b[0mconfusion_matrix\u001b[0m\u001b[0;34m(\u001b[0m\u001b[0mvalidation_generator\u001b[0m\u001b[0;34m.\u001b[0m\u001b[0mclasses\u001b[0m\u001b[0;34m,\u001b[0m \u001b[0my_pred\u001b[0m\u001b[0;34m)\u001b[0m\u001b[0;34m)\u001b[0m\u001b[0;34m\u001b[0m\u001b[0;34m\u001b[0m\u001b[0m\n\u001b[1;32m      5\u001b[0m \u001b[0mprint\u001b[0m\u001b[0;34m(\u001b[0m\u001b[0;34m'Classification Report'\u001b[0m\u001b[0;34m)\u001b[0m\u001b[0;34m\u001b[0m\u001b[0;34m\u001b[0m\u001b[0m\n",
            "\u001b[0;31mNameError\u001b[0m: name 'validation_data' is not defined"
          ]
        }
      ]
    },
    {
      "cell_type": "code",
      "metadata": {
        "id": "s4MM_zzSlnp5",
        "colab": {
          "base_uri": "https://localhost:8080/",
          "height": 499
        },
        "outputId": "0903dbcc-9e72-4c39-d637-e423dd082137"
      },
      "source": [
        "accuracy = history.history['accuracy']\r\n",
        "val_acc = history.history['val_accuracy']\r\n",
        "\r\n",
        "loss=history.history['loss']\r\n",
        "val_loss=history.history['val_loss']\r\n",
        "\r\n",
        "epochs_range = range(epochs)\r\n",
        "\r\n",
        "plt.figure(figsize=(8, 8))\r\n",
        "plt.subplot(1, 2, 1)\r\n",
        "plt.plot(epochs_range, accuracy, label='Training Accuracy')\r\n",
        "plt.plot(epochs_range, val_acc, label='Validation Accuracy')\r\n",
        "plt.legend(loc='lower right')\r\n",
        "plt.title('Training and Validation Accuracy')\r\n",
        "\r\n",
        "plt.subplot(1, 2, 2)\r\n",
        "plt.plot(epochs_range, loss, label='Training Loss')\r\n",
        "plt.plot(epochs_range, val_loss, label='Validation Loss')\r\n",
        "plt.legend(loc='upper right')\r\n",
        "plt.title('Training and Validation Loss')\r\n",
        "plt.show()"
      ],
      "execution_count": null,
      "outputs": [
        {
          "output_type": "display_data",
          "data": {
            "image/png": "[encoded data removed]",
            "text/plain": [
              "<Figure size 576x576 with 2 Axes>"
            ]
          },
          "metadata": {
            "tags": [],
            "needs_background": "light"
          }
        }
      ]
    },
    {
      "cell_type": "code",
      "metadata": {
        "id": "NaFeY2gndtQv"
      },
      "source": [
        "import json\r\n",
        "import operator\r\n",
        "from keras.models import load_model\r\n",
        "from keras.preprocessing.image import ImageDataGenerator\r\n",
        "import cv2\r\n",
        "import numpy as np"
      ],
      "execution_count": null,
      "outputs": []
    },
    {
      "cell_type": "code",
      "metadata": {
        "id": "s6BkOU3meyGk"
      },
      "source": [
        "def get_classes(classes_path=\"classes.json\"):\r\n",
        "    \"\"\"\r\n",
        "    Lis l'ordre des classes à partir d'un fichier JSON.\r\n",
        "\r\n",
        "    Parameters\r\n",
        "    ----------\r\n",
        "    classes_path : str = \"classes.json\"\r\n",
        "        Chemin du fichier JSON.\r\n",
        "\r\n",
        "    Returns\r\n",
        "    -------\r\n",
        "    classes : List[str]\r\n",
        "        Liste ordonnée des classes.\r\n",
        "    \"\"\"\r\n",
        "\r\n",
        "    with open(classes_path, \"r\") as f:\r\n",
        "        classes = json.load(f)\r\n",
        "\r\n",
        "    classes = [k for (k, v) in sorted(classes.items(), key=operator.itemgetter(1))]\r\n",
        "\r\n",
        "    return classes"
      ],
      "execution_count": null,
      "outputs": []
    },
    {
      "cell_type": "code",
      "metadata": {
        "id": "hLKHHw7pe0U-"
      },
      "source": [
        "def classer_plant_bleuet(img, model, classes):\r\n",
        "    \"\"\"\r\n",
        "    À partir d'un modèle et d'une image RGB (ndarray de taille 180x320x3), retourne la classe\r\n",
        "    prédite par le modèle (rien, bourgeon, fleur, fruit) et la probabilité associée à la prédiction.\r\n",
        "\r\n",
        "    Parameters\r\n",
        "    ----------\r\n",
        "    img : numpy.ndarray\r\n",
        "        Image RGB avec shape = (195, 195).\r\n",
        "\r\n",
        "    model : keras.models.Sequential\r\n",
        "        Modèle à utiliser.\r\n",
        "\r\n",
        "    classes : List[str]\r\n",
        "        Liste ordonnée des classes à utiliser.\r\n",
        "\r\n",
        "    Returns\r\n",
        "    -------\r\n",
        "    (prediction, probability)\r\n",
        "\r\n",
        "    prediction : str\r\n",
        "        La classe prédite par le modèle.\r\n",
        "\r\n",
        "    probability : float\r\n",
        "        La probabilité qu'il s'agit de cette classe.\r\n",
        "    \"\"\"\r\n",
        "\r\n",
        "    # Convertir (couleur -> gris -> composantes normalisées)\r\n",
        "    datagen = ImageDataGenerator(rescale=1.0/255.0, \r\n",
        "                                 #horizontal_flip=True, \r\n",
        "                                 #vertical_flip=True, \r\n",
        "                                 #rotation_range=90\r\n",
        "                                 )#prétraitement des données d'entrainement\r\n",
        "        #samplewise_center=True,\r\n",
        "        #samplewise_std_normalization=True,\r\n",
        "        #horizontal_flip=True,\r\n",
        "        #vertical_flip=True,\r\n",
        "        #rescale=1./255,\r\n",
        "    #)\r\n",
        "    #img = img.reshape(1, 128, 128, 3)\r\n",
        "    input_data = img.reshape((1,) + img.shape)\r\n",
        "    input_data = input_data.astype(np.float64)\r\n",
        "    input_data = datagen.standardize(input_data)\r\n",
        "\r\n",
        "    # Prédiction\r\n",
        "    preds = model.predict(input_data)\r\n",
        "    mx = np.argmax(preds, axis=1)[0]\r\n",
        "\r\n",
        "    return classes[mx], preds[0][mx]"
      ],
      "execution_count": null,
      "outputs": []
    },
    {
      "cell_type": "code",
      "metadata": {
        "id": "ffoQYss_e2K4"
      },
      "source": [
        "def main():\r\n",
        "    \"\"\"\r\n",
        "\r\n",
        "    Exemple d'utilisation\r\n",
        "\r\n",
        "    \"\"\"\r\n",
        "\r\n",
        "    # Lire le modèle\r\n",
        "    model = load_model(\"best_model_3001.h5\")\r\n",
        "\r\n",
        "    classes = get_classes()\r\n",
        "\r\n",
        "    # Lire des images\r\n",
        "    img_paths = [\r\n",
        "        \"images/tests/test7.jpg\",\r\n",
        "        \"images/tests/test5.jpg\",\r\n",
        "        \"images/tests/test3.jpg\",\r\n",
        "        #\"images/tests/test2 (4).jpg\",\r\n",
        "        #\"images/tests/test2 (5).jpg\",\r\n",
        "        #\"images/tests/test-002.jpg\",\r\n",
        "        #\"images/tests/test-003.jpg\",\r\n",
        "        #\"images/tests/test-004.jpg\",\r\n",
        "    ]\r\n",
        "\r\n",
        "    imgs = map(cv2.imread, img_paths)\r\n",
        "    #imgs = map(lambda x: cv2.cvtColor(x, cv2.COLOR_BGR2RGB), imgs)\r\n",
        "\r\n",
        "    for img in imgs:\r\n",
        "        if img is not None:\r\n",
        "            pred, prob = classer_plant_bleuet(img, model, classes)\r\n",
        "            print(f\"{pred} ({round(prob * 100, 3)} %)\")\r\n",
        "        else:\r\n",
        "            print(\"Impossible de lire l'image\")"
      ],
      "execution_count": null,
      "outputs": []
    },
    {
      "cell_type": "code",
      "metadata": {
        "colab": {
          "base_uri": "https://localhost:8080/"
        },
        "id": "9uPt8i8ie5Pj",
        "outputId": "b1ef012a-e6bd-4190-f27f-608af7036100"
      },
      "source": [
        "if __name__ == \"__main__\":\r\n",
        "    main()"
      ],
      "execution_count": null,
      "outputs": [
        {
          "output_type": "stream",
          "text": [
            "quatretemps (99.999 %)\n",
            "quatretemps (99.989 %)\n",
            "quatretemps (99.999 %)\n"
          ],
          "name": "stdout"
        }
      ]
    }
  ]
}